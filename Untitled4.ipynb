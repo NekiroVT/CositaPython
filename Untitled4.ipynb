{
  "nbformat": 4,
  "nbformat_minor": 0,
  "metadata": {
    "colab": {
      "provenance": [],
      "authorship_tag": "ABX9TyMwG5BDyA3VGqUE/G9maMU6",
      "include_colab_link": true
    },
    "kernelspec": {
      "name": "python3",
      "display_name": "Python 3"
    },
    "language_info": {
      "name": "python"
    }
  },
  "cells": [
    {
      "cell_type": "markdown",
      "metadata": {
        "id": "view-in-github",
        "colab_type": "text"
      },
      "source": [
        "<a href=\"https://colab.research.google.com/github/NekiroVT/CositaPython/blob/main/Untitled4.ipynb\" target=\"_parent\"><img src=\"https://colab.research.google.com/assets/colab-badge.svg\" alt=\"Open In Colab\"/></a>"
      ]
    },
    {
      "cell_type": "code",
      "execution_count": 2,
      "metadata": {
        "colab": {
          "base_uri": "https://localhost:8080/"
        },
        "id": "Cvm8hGYfxxbQ",
        "outputId": "f7519ddf-ce56-48e4-fa7c-c16f81014a88"
      },
      "outputs": [
        {
          "output_type": "stream",
          "name": "stdout",
          "text": [
            "Número de tarjeta cifrado (AES): b'I\\x8bm\\t\\x03\\x05\\xcc<8@\\xd4\\xb3n\\x18\\xdf\\xd2DQ\\x97'\n",
            "Clave AES cifrada con RSA: b'C\\x08\\xec\\xbfaz|\\xacX\\x9e<\\x96 <a\\x7f\\x0b\\xf6~m\\xd7\\xe9\\xff\\xa5\\x96l\\xd5&\\xa4\\xadV\\xa8\\xbf\\xaf\\xca\\xd6\\x05\\xdf4\\xca\\xd9\\xf4\\xd8\\xfdo\\x89\\x01\\xae.\\xc9Gp\\\\\\xa9bR\\xe0f\\xc6\\x8d8\\x08\\xf1\\xf8\\xbbuL\\x8aq\\xdcw\\xb58\\xc1\\x02\\xec\\xf8\\x04\\x89\\xfd\\xb2\\x91\\x94\\xd7\\xb2Tq\\x01G\\xd265\\xfa\\x1fG\\xba\\xf0y\\xaf}~\\x07\\xcf\\xcb1\\xf0YP\\xe7\\xcei\\xcc\\xfc\\rF\\x1d\\xa3,>\\xb5z[\\x88\\x81\\x91C>\\x8e\\x19\\x1f\\xd3\\xe4\\x08R\\x9d\\xe4\\xe2\\xcc\\xe8\\xd0s\\x1aC\\xd5\\xf4\\xb7<\\xa2\\xe3\\xdf\\xf3\\xabP\\xe8\\xa4\\xc8\\xef7q\\x13\\xd4\\xfb\\xd2\\xd2L\\xa7Y\\x0b\\xd9\\xde\\x81}G\\xe9\\x07B\\xdbF\\xb1\\xf0\\x19\\xf9bD\\x9a.\\x0f\\xd14\\xf8E\\x10\\xd0)\\x06\\xf0j\\xcc\\xe3v\\xbe\\x87m\\xaa\\xec$\\xf7\\xca\\xa4\\x95\\x0ev\\x00\\\\\\x8e\\xefy\\xff\\xa8\\x11\\xcd\\xe0Mb\\r\\x1a>\\xa6\\xdc\\xa7\\x11\\xf0\\x8f\\xc5396\\xa1\\x90^\\xd5%\\xfd\\xb6\\xf1\\xc1)\\xf6\\xe7\\xae8d\\xa0\\xe0\\xa3\\xfc'\n",
            "Clave AES descifrada con RSA: b'\\x15m;\\x89\\xda\\xe1\\xb9q\\xdb4\\xc7;\\x8f\\x03\\x93\\x11t2\\xe5\\x85\\x89\\x95\\x00\\xcf\\x00lO\\x10\\x03C\\xce\\xd5'\n",
            "Número de tarjeta de crédito descifrado: 1234 5678 9876 5432\n"
          ]
        }
      ],
      "source": [
        "from Crypto.PublicKey import RSA\n",
        "from Crypto.Cipher import AES\n",
        "from Crypto.Random import get_random_bytes\n",
        "import rsa\n",
        "\n",
        "\n",
        "def cifrar_aes(texto, clave_aes):\n",
        "    cipher = AES.new(clave_aes, AES.MODE_GCM)\n",
        "    ciphertext, tag = cipher.encrypt_and_digest(texto.encode())\n",
        "    return cipher.nonce, tag, ciphertext\n",
        "\n",
        "def descifrar_aes(nonce, tag, ciphertext, clave_aes):\n",
        "    cipher = AES.new(clave_aes, AES.MODE_GCM, nonce=nonce)\n",
        "    return cipher.decrypt_and_verify(ciphertext, tag).decode()\n",
        "\n",
        "def generar_claves_rsa():\n",
        "\n",
        "    public_key, private_key = rsa.newkeys(2048)\n",
        "    return public_key, private_key\n",
        "\n",
        "def cifrar_rsa(clave_publica, clave_aes):\n",
        "    return rsa.encrypt(clave_aes, clave_publica)\n",
        "\n",
        "def descifrar_rsa(clave_privada, clave_encriptada):\n",
        "    return rsa.decrypt(clave_encriptada, clave_privada)\n",
        "\n",
        "\n",
        "\n",
        "tarjeta_credito = \"1234 5678 9876 5432\"\n",
        "\n",
        "\n",
        "clave_aes = get_random_bytes(32)\n",
        "\n",
        "nonce, tag, ciphertext = cifrar_aes(tarjeta_credito, clave_aes)\n",
        "print(\"Número de tarjeta cifrado (AES):\", ciphertext)\n",
        "\n",
        "clave_publica, clave_privada = generar_claves_rsa()\n",
        "\n",
        "clave_aes_encriptada = cifrar_rsa(clave_publica, clave_aes)\n",
        "print(\"Clave AES cifrada con RSA:\", clave_aes_encriptada)\n",
        "\n",
        "clave_aes_descifrada = descifrar_rsa(clave_privada, clave_aes_encriptada)\n",
        "print(\"Clave AES descifrada con RSA:\", clave_aes_descifrada)\n",
        "\n",
        "tarjeta_descifrada = descifrar_aes(nonce, tag, ciphertext, clave_aes_descifrada)\n",
        "print(\"Número de tarjeta de crédito descifrado:\", tarjeta_descifrada)"
      ]
    }
  ]
}